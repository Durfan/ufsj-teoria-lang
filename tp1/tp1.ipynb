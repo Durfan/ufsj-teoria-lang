{
 "metadata": {
  "language_info": {
   "codemirror_mode": {
    "name": "ipython",
    "version": 3
   },
   "file_extension": ".py",
   "mimetype": "text/x-python",
   "name": "python",
   "nbconvert_exporter": "python",
   "pygments_lexer": "ipython3",
   "version": "3.9.2-final"
  },
  "orig_nbformat": 2,
  "kernelspec": {
   "name": "python3",
   "display_name": "Python 3.9.2 64-bit",
   "metadata": {
    "interpreter": {
     "hash": "4e1d9a8909477db77738c33245c29c7265277ef753467dede8cf3f814cde494e"
    }
   }
  }
 },
 "nbformat": 4,
 "nbformat_minor": 2,
 "cells": [
  {
   "cell_type": "code",
   "execution_count": 2,
   "metadata": {},
   "outputs": [],
   "source": [
    "dfa = {0:{'5':1},\n",
    "       1:{'7':2, '8':3},\n",
    "       2:{'p':4},\n",
    "       3:{'a':4},\n",
    "       4:{'8':3, '7':5},\n",
    "       5:{'p':4}}"
   ]
  },
  {
   "cell_type": "code",
   "execution_count": 15,
   "metadata": {},
   "outputs": [],
   "source": [
    "def accepts(s):\n",
    "    initial = 0\n",
    "    accepting = {5}\n",
    "    rejected = False\n",
    "    indefinition = False\n",
    "\n",
    "    state = initial\n",
    "    cursor = ''\n",
    "    for c in s:\n",
    "        try:\n",
    "            state = dfa[state][c]\n",
    "            cursor += c\n",
    "            q = state\n",
    "        except KeyError:\n",
    "            indefinition = True\n",
    "            state = False\n",
    "            break\n",
    "\n",
    "    if indefinition:\n",
    "        print('{} -> Rejeitado por indefinição: {}[{}]'.format(s,cursor,c))\n",
    "    elif q not in accepting:\n",
    "        print(state)\n",
    "        print('{} -> Rejeitado (estado não final): q{}'.format(s,q))\n",
    "    else:\n",
    "        print('{} -> Aceito'.format(s))\n",
    "\n",
    "    return state in accepting"
   ]
  },
  {
   "cell_type": "code",
   "execution_count": 16,
   "metadata": {},
   "outputs": [
    {
     "output_type": "execute_result",
     "data": {
      "text/plain": [
       "True"
      ]
     },
     "metadata": {},
     "execution_count": 16
    }
   ],
   "source": [
    "accepts('58a7p7')"
   ]
  },
  {
   "cell_type": "code",
   "execution_count": null,
   "metadata": {},
   "outputs": [],
   "source": []
  }
 ]
}